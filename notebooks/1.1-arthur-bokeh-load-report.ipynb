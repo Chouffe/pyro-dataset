version https://git-lfs.github.com/spec/v1
oid sha256:e070385767dedd86a7855f529a50a254a6de61c8b2194c258c7ea4fca0f6b982
size 214662
